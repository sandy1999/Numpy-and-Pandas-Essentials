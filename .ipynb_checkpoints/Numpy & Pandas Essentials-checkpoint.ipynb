{
 "cells": [
  {
   "cell_type": "markdown",
   "metadata": {},
   "source": [
    "# Numpy and Pandas Essentials\n",
    "\n",
    "**This notebook is a compilation of some essential concepts of Numpys and Pandas which is used for data processing and model evaluation**"
   ]
  },
  {
   "cell_type": "code",
   "execution_count": 1,
   "metadata": {},
   "outputs": [],
   "source": [
    "#importing the libraries to this workspace \n",
    "import numpy as np\n",
    "import pandas as pd"
   ]
  },
  {
   "cell_type": "code",
   "execution_count": 3,
   "metadata": {
    "scrolled": true
   },
   "outputs": [
    {
     "name": "stdout",
     "output_type": "stream",
     "text": [
      "[1. 4. 5. 8.]  \n",
      "[[1. 2. 3.]\n",
      " [4. 5. 6.]]\n"
     ]
    }
   ],
   "source": [
    "#visualizing numpy in action \n",
    "array = np.array([1,4,5,8],dtype=float)\n",
    "print(array,\" \")\n",
    "array = np.array([[1,2,3],[4,5,6]],float) # 2D array \n",
    "print(array)"
   ]
  },
  {
   "cell_type": "code",
   "execution_count": 4,
   "metadata": {},
   "outputs": [
    {
     "name": "stdout",
     "output_type": "stream",
     "text": [
      "[1. 4. 5. 8.]\n",
      " 4.0\n",
      "[1. 4.]\n",
      "5.0\n"
     ]
    }
   ],
   "source": [
    "#array indexing and slicing in action\n",
    "array = np.array([1, 4, 5, 8], float)\n",
    "print(array)\n",
    "print(\"\",array[1])\n",
    "print(array[:2])\n",
    "array[1]=5.0\n",
    "print(array[1])"
   ]
  },
  {
   "cell_type": "code",
   "execution_count": 9,
   "metadata": {},
   "outputs": [
    {
     "name": "stdout",
     "output_type": "stream",
     "text": [
      "[[1. 2. 3.]\n",
      " [4. 5. 6.]]\n",
      "5.0\n",
      "[4. 5. 6.]\n",
      "[3. 6.]\n",
      "[3. 6.]\n"
     ]
    }
   ],
   "source": [
    "# matrix indexing and slicing\n",
    "two_D_array = np.array([[1, 2, 3], [4, 5, 6]], float)\n",
    "print(two_D_array)\n",
    "print(two_D_array[1][1])\n",
    "print(two_D_array[1,:])\n",
    "print(two_D_array[:,2])"
   ]
  }
 ],
 "metadata": {
  "kernelspec": {
   "display_name": "Python 3",
   "language": "python",
   "name": "python3"
  },
  "language_info": {
   "codemirror_mode": {
    "name": "ipython",
    "version": 3
   },
   "file_extension": ".py",
   "mimetype": "text/x-python",
   "name": "python",
   "nbconvert_exporter": "python",
   "pygments_lexer": "ipython3",
   "version": "3.6.4"
  }
 },
 "nbformat": 4,
 "nbformat_minor": 2
}
