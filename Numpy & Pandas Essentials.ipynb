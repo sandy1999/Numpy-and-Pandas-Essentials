{
 "cells": [
  {
   "cell_type": "markdown",
   "metadata": {},
   "source": [
    "# Numpy and Pandas Essentials\n",
    "\n",
    "**This notebook is a compilation of some essential concepts of Numpys and Pandas which is used for data processing and model evaluation**"
   ]
  },
  {
   "cell_type": "markdown",
   "metadata": {},
   "source": [
    "## Numpy \n",
    "\n",
    "** This library is one of the most famous and important one for python development this library focus on mainly numerical calculation part of the data it is based on and for calculating the data **"
   ]
  },
  {
   "cell_type": "code",
   "execution_count": null,
   "metadata": {},
   "outputs": [],
   "source": [
    "#importing the libraries to this workspace \n",
    "import numpy as np\n",
    "import pandas as pd"
   ]
  },
  {
   "cell_type": "code",
   "execution_count": null,
   "metadata": {
    "scrolled": true
   },
   "outputs": [],
   "source": [
    "#visualizing numpy in action \n",
    "array = np.array([1,4,5,8],dtype=float)\n",
    "print(array,\" \")\n",
    "array = np.array([[1,2,3],[4,5,6]],float) # 2D array \n",
    "print(array)"
   ]
  },
  {
   "cell_type": "code",
   "execution_count": null,
   "metadata": {},
   "outputs": [],
   "source": [
    "#array indexing and slicing in action\n",
    "array = np.array([1, 4, 5, 8], float)\n",
    "print(array)\n",
    "print(\"\",array[1])\n",
    "print(array[:2])\n",
    "array[1]=5.0\n",
    "print(array[1])"
   ]
  },
  {
   "cell_type": "code",
   "execution_count": null,
   "metadata": {
    "scrolled": true
   },
   "outputs": [],
   "source": [
    "# matrix indexing and slicing\n",
    "two_D_array = np.array([[1, 2, 3], [4, 5, 6]], float)\n",
    "print(two_D_array)\n",
    "print(two_D_array[1][1])\n",
    "print(two_D_array[1,:])\n",
    "print(two_D_array[:,2])"
   ]
  },
  {
   "cell_type": "code",
   "execution_count": null,
   "metadata": {
    "scrolled": true
   },
   "outputs": [],
   "source": [
    "#performing some basic arithmetic operations on array \n",
    "array_1 = np.array([1, 2, 3], float)\n",
    "array_2 = np.array([5, 2, 6], float)\n",
    "\n",
    "print(array_1+array_2)\n",
    "print(np.subtract(array_1,array_2))\n",
    "print(np.dot(array_1,array_2))"
   ]
  },
  {
   "cell_type": "code",
   "execution_count": null,
   "metadata": {},
   "outputs": [],
   "source": [
    "#performing some basic for mean and dot products \n",
    "array_1 = np.array([1, 2, 3], float)\n",
    "array_2 = np.array([[6], [7], [8]], float)\n",
    "print(np.mean(array_1))\n",
    "print(np.mean(array_2))\n",
    "\n",
    "print(np.dot(array_1,array_2))"
   ]
  }
 ],
 "metadata": {
  "kernelspec": {
   "display_name": "Python 3",
   "language": "python",
   "name": "python3"
  },
  "language_info": {
   "codemirror_mode": {
    "name": "ipython",
    "version": 3
   },
   "file_extension": ".py",
   "mimetype": "text/x-python",
   "name": "python",
   "nbconvert_exporter": "python",
   "pygments_lexer": "ipython3",
   "version": "3.6.4"
  }
 },
 "nbformat": 4,
 "nbformat_minor": 2
}
