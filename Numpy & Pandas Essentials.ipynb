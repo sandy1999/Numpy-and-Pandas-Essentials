{
 "cells": [
  {
   "cell_type": "markdown",
   "metadata": {},
   "source": [
    "# Numpy and Pandas Essentials\n",
    "\n",
    "**This notebook is a compilation of some essential concepts of Numpys and Pandas which is used for data processing and model evaluation**"
   ]
  },
  {
   "cell_type": "markdown",
   "metadata": {},
   "source": [
    "## Numpy \n",
    "\n",
    "** This library is one of the most famous and important one for python development this library focus on mainly numerical calculation part of the data it is based on and for calculating the data **"
   ]
  },
  {
   "cell_type": "code",
   "execution_count": 1,
   "metadata": {},
   "outputs": [],
   "source": [
    "#importing the libraries to this workspace \n",
    "import numpy as np\n",
    "import pandas as pd"
   ]
  },
  {
   "cell_type": "code",
   "execution_count": 2,
   "metadata": {
    "scrolled": true
   },
   "outputs": [
    {
     "name": "stdout",
     "output_type": "stream",
     "text": [
      "[1. 4. 5. 8.]  \n",
      "[[1. 2. 3.]\n",
      " [4. 5. 6.]]\n"
     ]
    }
   ],
   "source": [
    "#visualizing numpy in action \n",
    "array = np.array([1,4,5,8],dtype=float)\n",
    "print(array,\" \")\n",
    "array = np.array([[1,2,3],[4,5,6]],float) # 2D array \n",
    "print(array)"
   ]
  },
  {
   "cell_type": "code",
   "execution_count": 3,
   "metadata": {},
   "outputs": [
    {
     "name": "stdout",
     "output_type": "stream",
     "text": [
      "[1. 4. 5. 8.]\n",
      " 4.0\n",
      "[1. 4.]\n",
      "5.0\n"
     ]
    }
   ],
   "source": [
    "#array indexing and slicing in action\n",
    "array = np.array([1, 4, 5, 8], float)\n",
    "print(array)\n",
    "print(\"\",array[1])\n",
    "print(array[:2])\n",
    "array[1]=5.0\n",
    "print(array[1])"
   ]
  },
  {
   "cell_type": "code",
   "execution_count": 4,
   "metadata": {
    "scrolled": true
   },
   "outputs": [
    {
     "name": "stdout",
     "output_type": "stream",
     "text": [
      "[[1. 2. 3.]\n",
      " [4. 5. 6.]]\n",
      "5.0\n",
      "[4. 5. 6.]\n",
      "[3. 6.]\n"
     ]
    }
   ],
   "source": [
    "# matrix indexing and slicing\n",
    "two_D_array = np.array([[1, 2, 3], [4, 5, 6]], float)\n",
    "print(two_D_array)\n",
    "print(two_D_array[1][1])\n",
    "print(two_D_array[1,:])\n",
    "print(two_D_array[:,2])"
   ]
  },
  {
   "cell_type": "code",
   "execution_count": 5,
   "metadata": {
    "scrolled": true
   },
   "outputs": [
    {
     "name": "stdout",
     "output_type": "stream",
     "text": [
      "[6. 4. 9.]\n",
      "[-4.  0. -3.]\n",
      "27.0\n"
     ]
    }
   ],
   "source": [
    "#performing some basic arithmetic operations on array \n",
    "array_1 = np.array([1, 2, 3], float)\n",
    "array_2 = np.array([5, 2, 6], float)\n",
    "\n",
    "print(array_1+array_2)\n",
    "print(np.subtract(array_1,array_2))\n",
    "print(np.dot(array_1,array_2))"
   ]
  },
  {
   "cell_type": "code",
   "execution_count": 6,
   "metadata": {
    "scrolled": false
   },
   "outputs": [
    {
     "name": "stdout",
     "output_type": "stream",
     "text": [
      "2.0\n",
      "7.0\n",
      "[44.]\n"
     ]
    }
   ],
   "source": [
    "#performing some basic for mean and dot products \n",
    "array_1 = np.array([1, 2, 3], float)\n",
    "array_2 = np.array([[6], [7], [8]], float)\n",
    "print(np.mean(array_1))\n",
    "print(np.mean(array_2))\n",
    "\n",
    "print(np.dot(array_1,array_2))"
   ]
  },
  {
   "cell_type": "markdown",
   "metadata": {},
   "source": [
    "## Pandas \n",
    "** This is the library developed over numpys and its mainly used for data segeregation and viewing in the form of Tables and series of an array **"
   ]
  },
  {
   "cell_type": "markdown",
   "metadata": {},
   "source": [
    "### Series "
   ]
  },
  {
   "cell_type": "code",
   "execution_count": 7,
   "metadata": {
    "scrolled": false
   },
   "outputs": [
    {
     "name": "stdout",
     "output_type": "stream",
     "text": [
      "0           Dave\n",
      "1      Cheng-Han\n",
      "2        Udacity\n",
      "3             42\n",
      "4    -1789710578\n",
      "dtype: object\n"
     ]
    }
   ],
   "source": [
    "# printing series made of Pandas data series  \n",
    "\n",
    "series = pd.Series(['Dave', 'Cheng-Han', 'Udacity', 42, -1789710578])\n",
    "print (series)"
   ]
  },
  {
   "cell_type": "code",
   "execution_count": 8,
   "metadata": {},
   "outputs": [
    {
     "name": "stdout",
     "output_type": "stream",
     "text": [
      "Instructor                 Dave\n",
      "Curriculum Manager    Cheng-Han\n",
      "Course Number               359\n",
      "Power Level                9001\n",
      "dtype: object\n"
     ]
    }
   ],
   "source": [
    "# printing series based on custom index \n",
    "series = pd.Series(['Dave', 'Cheng-Han', 359, 9001],\n",
    "                       index=['Instructor', 'Curriculum Manager',\n",
    "                              'Course Number', 'Power Level'])\n",
    "print(series)"
   ]
  },
  {
   "cell_type": "code",
   "execution_count": 9,
   "metadata": {},
   "outputs": [
    {
     "name": "stdout",
     "output_type": "stream",
     "text": [
      "Dave\n",
      "Instructor                 Dave\n",
      "Curriculum Manager    Cheng-Han\n",
      "Course Number               359\n",
      "dtype: object\n"
     ]
    }
   ],
   "source": [
    "# selecting a value of data element using its index values \n",
    "print(series['Instructor'])\n",
    "print(series[['Instructor', 'Curriculum Manager', 'Course Number']])"
   ]
  },
  {
   "cell_type": "code",
   "execution_count": 10,
   "metadata": {},
   "outputs": [
    {
     "name": "stdout",
     "output_type": "stream",
     "text": [
      "Cockroach    False\n",
      "Fish         False\n",
      "Mini Pig     False\n",
      "Puppy         True\n",
      "Kitten        True\n",
      "dtype: bool\n",
      "Puppy     4\n",
      "Kitten    5\n",
      "dtype: int64\n"
     ]
    }
   ],
   "source": [
    "# selecting values using boolean values \n",
    "cuteness = pd.Series([1, 2, 3, 4, 5], index=['Cockroach', 'Fish', 'Mini Pig',\n",
    "                                                 'Puppy', 'Kitten'])\n",
    "print(cuteness > 3)\n",
    "print(cuteness[cuteness > 3])"
   ]
  }
 ],
 "metadata": {
  "kernelspec": {
   "display_name": "Python 3",
   "language": "python",
   "name": "python3"
  },
  "language_info": {
   "codemirror_mode": {
    "name": "ipython",
    "version": 3
   },
   "file_extension": ".py",
   "mimetype": "text/x-python",
   "name": "python",
   "nbconvert_exporter": "python",
   "pygments_lexer": "ipython3",
   "version": "3.6.4"
  }
 },
 "nbformat": 4,
 "nbformat_minor": 2
}
